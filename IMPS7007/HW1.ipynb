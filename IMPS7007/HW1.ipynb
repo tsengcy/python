{
 "cells": [
  {
   "cell_type": "markdown",
   "metadata": {},
   "source": [
    "# 作業一\n",
    "\n",
    "打造一個互動版的數字範圍加總程式\n",
    "\n",
    "### 流程：\n",
    "\n",
    "- 讓使用者輸入**兩個大於 0 的整數**\n",
    "- 我們假設使用者輸入的**第一個整數一定小於第二個整數**\n",
    "- 計算兩個整數包含的範圍之間，所有整數的加總\n",
    "- 顯示結果\n",
    "\n",
    "***備注：請將程式碼寫在下面的儲存格，並繳交此檔案至 NTU COOL，謝謝！**"
   ]
  },
  {
   "cell_type": "code",
   "execution_count": null,
   "metadata": {},
   "outputs": [],
   "source": []
  }
 ],
 "metadata": {
  "kernelspec": {
   "display_name": "Python 3",
   "language": "python",
   "name": "python3"
  },
  "language_info": {
   "codemirror_mode": {
    "name": "ipython",
    "version": 3
   },
   "file_extension": ".py",
   "mimetype": "text/x-python",
   "name": "python",
   "nbconvert_exporter": "python",
   "pygments_lexer": "ipython3",
   "version": "3.8.5"
  }
 },
 "nbformat": 4,
 "nbformat_minor": 4
}
