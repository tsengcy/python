{
 "cells": [
  {
   "cell_type": "markdown",
   "metadata": {},
   "source": [
    "# HW2：剪刀、石頭、布遊戲\n",
    "\n",
    "![](https://drive.google.com/uc?export=download&id=1QQU8p6XTixh8Z36iOBf1EYfw4LC1yiKy)\n",
    "\n",
    "# 目標\n",
    "\n",
    "打造一個剪刀、石頭、布遊戲（Rock, Paper, Scissors）\n",
    "\n",
    "# 執行流程\n",
    "\n",
    "- 讓使用者輸入名字、進入游戲\n",
    "- 使用者透過輸入數字 1, 2, 3 來指定剪刀（1）、石頭（2）、或布（3）\n",
    "- 電腦要具備對戰功能（能夠自動出拳）\n",
    "- 判斷並且顯示輸贏\n",
    "- 顯示使用者和電腦出的拳\n",
    "\n",
    "# 範例程式碼：\n",
    "\n",
    "```python\n",
    "print(\"歡迎來到剪刀石頭布！ \")\n",
    "name = input(\"請輸入您的名稱：\")\n",
    "\n",
    "user_hand = int(input((\"請出拳： (1) 剪刀 (2) 石頭 (3) 布：\"))\n",
    "# 把剩下的判斷輸贏寫完...\n",
    "```\n",
    "\n",
    "\n",
    "# 挑戰\n",
    "\n",
    "要如何能夠實作出讓電腦自動出拳的功能？\n",
    "\n",
    "\n",
    "\n",
    "# 隨機數 (Random)\n",
    "```python\n",
    "# 匯入 random 模組的功能\n",
    "import random\n",
    "# 隨機回傳範圍 1 到 3 之間的某個整數\n",
    "print(random.randint(1,3))\n",
    "```"
   ]
  },
  {
   "cell_type": "code",
   "execution_count": 2,
   "metadata": {},
   "outputs": [
    {
     "name": "stdout",
     "output_type": "stream",
     "text": [
      "歡迎來到剪刀石頭布!\n",
      "錯誤輸入\n",
      "玩家名稱: bkghg, 電腦出拳: 布\n"
     ]
    }
   ],
   "source": [
    "import random\n",
    "\n",
    "print(\"歡迎來到剪刀石頭布!\")\n",
    "name = input(\"請輸入姓名: \")\n",
    "user_str = input((\"請出拳: (1) 剪刀, (2) 石頭, (3)布 :\"))\n",
    "com_hand = random.randint(1,3)\n",
    "\n",
    "if(user_str != \"1\" and user_str != \"2\" and user_str != \"3\"):\n",
    "    print(\"錯誤輸入\")\n",
    "else:\n",
    "    user_hand = int(user_str)\n",
    "\n",
    "    if(user_hand == com_hand):\n",
    "        print(\"平手\")\n",
    "    elif(user_hand == 2 and com_hand == 1):\n",
    "        print(\"你贏了\")\n",
    "    elif(user_hand == 3 and com_hand == 2):\n",
    "        print(\"你贏了\")\n",
    "    elif(user_hand == 1 and com_hand == 3):\n",
    "        print(\"你贏了\")\n",
    "    else:\n",
    "        print(\"你輸了\")\n",
    "\n",
    "if(com_hand == 1):\n",
    "    com_str = \"剪刀\"\n",
    "elif(com_hand == 2):\n",
    "    com_str = \"石頭\"\n",
    "else:\n",
    "    com_str = \"布\"\n",
    "\n",
    "print(\"玩家名稱: {0}, 電腦出拳: {1}\".format(name, com_str))"
   ]
  }
 ],
 "metadata": {
  "kernelspec": {
   "display_name": "Python 3",
   "language": "python",
   "name": "python3"
  },
  "language_info": {
   "codemirror_mode": {
    "name": "ipython",
    "version": 3
   },
   "file_extension": ".py",
   "mimetype": "text/x-python",
   "name": "python",
   "nbconvert_exporter": "python",
   "pygments_lexer": "ipython3",
   "version": "3.8.15"
  }
 },
 "nbformat": 4,
 "nbformat_minor": 4
}
